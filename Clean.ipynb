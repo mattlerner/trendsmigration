{
 "cells": [
  {
   "cell_type": "code",
   "execution_count": 526,
   "metadata": {},
   "outputs": [],
   "source": [
    "import pandas as pd\n",
    "import seaborn as sns\n",
    "import numpy as np\n",
    "import collections\n",
    "import matplotlib.pyplot as plt"
   ]
  },
  {
   "cell_type": "code",
   "execution_count": 527,
   "metadata": {},
   "outputs": [],
   "source": [
    "name_recodes = {\n",
    "    \"USA (EOIR)\":\"United States\",\n",
    "    \"USA (INS/DHS)\":\"United States\",\n",
    "    \"Venezuela, Bolivarian Republic of\":\"Venezuela\",\n",
    "    \"Venezuela (Bolivarian Republic of)\":\"Venezuela\"\n",
    "}\n",
    "\n",
    "country_codes = pd.read_csv(\"country_codes.csv\")\n",
    "country_codes['Name'] = country_codes['Name'].replace(name_recodes)"
   ]
  },
  {
   "cell_type": "code",
   "execution_count": 528,
   "metadata": {},
   "outputs": [
    {
     "name": "stderr",
     "output_type": "stream",
     "text": [
      "/usr/local/lib/python3.7/site-packages/ipykernel_launcher.py:17: SettingWithCopyWarning: \n",
      "A value is trying to be set on a copy of a slice from a DataFrame.\n",
      "Try using .loc[row_indexer,col_indexer] = value instead\n",
      "\n",
      "See the caveats in the documentation: http://pandas.pydata.org/pandas-docs/stable/indexing.html#indexing-view-versus-copy\n",
      "/usr/local/lib/python3.7/site-packages/ipykernel_launcher.py:18: SettingWithCopyWarning: \n",
      "A value is trying to be set on a copy of a slice from a DataFrame.\n",
      "Try using .loc[row_indexer,col_indexer] = value instead\n",
      "\n",
      "See the caveats in the documentation: http://pandas.pydata.org/pandas-docs/stable/indexing.html#indexing-view-versus-copy\n"
     ]
    }
   ],
   "source": [
    "####### UNHCR\n",
    "\n",
    "unhcr_raw = pd.read_csv(\"unhcr_popstats_export_asylum_seekers_monthly_all_data.csv\", skiprows=3)\n",
    "\n",
    "# replacing names\n",
    "unhcr_raw['Origin'] = unhcr_raw['Origin'].replace(name_recodes)\n",
    "unhcr_raw['Country / territory of asylum/residence'] = unhcr_raw['Country / territory of asylum/residence'].replace(name_recodes)\n",
    "\n",
    "unhcr_temp_1 = pd.merge(unhcr_raw, country_codes, left_on=\"Country / territory of asylum/residence\", right_on=\"Name\", how=\"left\")\n",
    "unhcr_temp_2 = pd.merge(unhcr_temp_1, country_codes, left_on='Origin', right_on='Name', suffixes=('_destination','_origin'), how=\"left\")\n",
    "unhcr_temp_3 = unhcr_temp_2[['Code_destination','Code_origin','Year','Month','Value','Name_destination','Name_origin']].drop_duplicates()\n",
    "\n",
    "# since 2014\n",
    "unhcr = unhcr_temp_3[(unhcr_temp_3['Year'] >= 2014) & (unhcr_temp_3['Year'] <= 2017)]\n",
    "\n",
    "# weekly\n",
    "unhcr['date_recode'] = pd.to_datetime(unhcr['Month'] + ' ' + unhcr['Year'].astype(str))\n",
    "unhcr['Value'] = pd.to_numeric(unhcr['Value'], errors='coerce')\n",
    "unhcr = unhcr.groupby(['Name_origin','Name_destination','Code_destination','Code_origin','date_recode']).aggregate({\"Value\":\"sum\"}).reset_index()\n",
    "\n",
    "\n",
    "# countries after 2014 to csv\n",
    "unhcr_temp_2_out = unhcr_temp_2[unhcr_temp_2['Year'] >= 2014][['Origin','Code_origin']].drop_duplicates()\n",
    "unhcr_temp_2_out.to_csv('origin_codes.csv', index=False)\n",
    "\n"
   ]
  },
  {
   "cell_type": "code",
   "execution_count": 572,
   "metadata": {},
   "outputs": [],
   "source": [
    "# insheet google trends\n",
    "gtrends_raw = pd.read_csv(\"gtrends_all.csv\")\n",
    "kw_list = list(gtrends_raw['word'].unique())\n",
    "renames_ = {str(kw):kw.replace(\"+\",\"_\") for kw in kw_list} # can't have +s in variable names\n",
    "new_kw_list = list(renames_.values())\n",
    "aggregation = {kw:\"mean\" for kw in new_kw_list}\n",
    "gtrends = gtrends_raw.rename(columns=renames_)\n",
    "gtrends['date_recode'] = pd.to_datetime(pd.to_datetime(gtrends['index']).dt.strftime('%Y-%m-01'))\n",
    "gtrends_monthly = gtrends.groupby(['Country Code','date_recode']).aggregate(aggregation).reset_index()"
   ]
  },
  {
   "cell_type": "code",
   "execution_count": 573,
   "metadata": {},
   "outputs": [],
   "source": [
    "##### GTRENDS + UNHCR\n",
    "\n",
    "refugees_raw = pd.merge(gtrends_monthly, unhcr, left_on=['date_recode','Country Code'], right_on=['date_recode','Code_origin'])\n",
    "refugees = refugees_raw[((refugees_raw['Code_destination'] == \"ES\") | (refugees_raw['Code_destination'] == \"US\"))][['Value','date_recode','Code_origin','Code_destination','Name_origin','Name_destination']+new_kw_list]\n",
    "refugees['Value'] = pd.to_numeric(refugees['Value'], errors='coerce')\n",
    "\n",
    "# fill NAs with 0 in keyword columns\n",
    "refugees = refugees.fillna(0)\n"
   ]
  },
  {
   "cell_type": "code",
   "execution_count": 574,
   "metadata": {},
   "outputs": [],
   "source": [
    "refugees = refugees.drop_duplicates().sort_values(['Code_origin','Code_destination','date_recode']).dropna(subset=['Value'])\n",
    "refugees.to_csv(\"refugees.csv\", index=False)\n"
   ]
  },
  {
   "cell_type": "code",
   "execution_count": 577,
   "metadata": {},
   "outputs": [],
   "source": [
    "# first keep only pairs where we have full years of data\n",
    "refugees['year'] = refugees['date_recode'].dt.year\n",
    "refugees['num_in_year'] = refugees.groupby(['Code_origin','Code_destination','year'])['date_recode'].transform('count')\n",
    "refugees_fullyears = refugees[refugees.num_in_year == 12]\n",
    "refugees_fullyears = refugees_fullyears.drop_duplicates().sort_values(['Code_origin','Code_destination','date_recode']).dropna(subset=['Value'])\n",
    "\n",
    "refugees_wlags = refugees_fullyears\n",
    "refugees_wlags['Value_lag1'] = refugees_wlags.groupby(['Code_origin','Code_destination']).Value.shift(1)\n",
    "refugees_wlags['Value_lag2'] = refugees_wlags.groupby(['Code_origin','Code_destination']).Value.shift(2)\n",
    "refugees_wlags['Value_diff'] = refugees_wlags['Value'] - refugees_wlags['Value_lag1']\n",
    "\n",
    "# creating some new variables\n",
    "# creating all two_way interactions in a loop\n",
    "new_kw_list_w_interactions = new_kw_list.copy()\n",
    "for kw in new_kw_list:\n",
    "    for kw2 in [x for x in new_kw_list if x != new_kw_list]:\n",
    "        refugees_wlags[kw +'_x_'+kw2] = refugees_wlags[kw]*refugees_wlags[kw2]\n",
    "        new_kw_list_w_interactions.append(\"{}_x_{}\".format(kw,kw2))\n",
    "\n",
    "for kw in new_kw_list_w_interactions:\n",
    "    refugees_wlags[kw+'_lag1'] = refugees_wlags.groupby(['Code_origin','Code_destination'])[kw].shift(1)\n",
    "    refugees_wlags[kw+'_lag2'] = refugees_wlags.groupby(['Code_origin','Code_destination'])[kw].shift(2)\n",
    "    refugees_wlags[kw+'_diff'] = refugees_wlags[kw] - refugees_wlags[kw+'_lag1']\n",
    "    refugees_wlags[kw+'_diff_lag1'] = refugees_wlags[kw+'_lag1'] - refugees_wlags[kw+'_lag2']\n",
    "\n",
    "    \n",
    "# differences here: we want to predict next month's change in asylum applications by searches this month\n",
    "\n",
    "\n",
    "refugees_wlags.to_csv('refugees_wlags.csv', index=False)\n",
    "    "
   ]
  },
  {
   "cell_type": "code",
   "execution_count": 580,
   "metadata": {},
   "outputs": [
    {
     "ename": "ValueError",
     "evalue": "Could not interpret input 'inmigrar_EEUU'",
     "output_type": "error",
     "traceback": [
      "\u001b[0;31m---------------------------------------------------------------------------\u001b[0m",
      "\u001b[0;31mValueError\u001b[0m                                Traceback (most recent call last)",
      "\u001b[0;32m<ipython-input-580-4e552a0df311>\u001b[0m in \u001b[0;36m<module>\u001b[0;34m\u001b[0m\n\u001b[1;32m      2\u001b[0m \u001b[0mplt\u001b[0m\u001b[0;34m.\u001b[0m\u001b[0mfigure\u001b[0m\u001b[0;34m(\u001b[0m\u001b[0mfigsize\u001b[0m\u001b[0;34m=\u001b[0m\u001b[0;34m(\u001b[0m\u001b[0;36m15\u001b[0m\u001b[0;34m,\u001b[0m\u001b[0;36m10\u001b[0m\u001b[0;34m)\u001b[0m\u001b[0;34m)\u001b[0m\u001b[0;34m\u001b[0m\u001b[0;34m\u001b[0m\u001b[0m\n\u001b[1;32m      3\u001b[0m \u001b[0msns\u001b[0m\u001b[0;34m.\u001b[0m\u001b[0mset_context\u001b[0m\u001b[0;34m(\u001b[0m\u001b[0;34m\"paper\"\u001b[0m\u001b[0;34m,\u001b[0m\u001b[0mfont_scale\u001b[0m\u001b[0;34m=\u001b[0m\u001b[0;36m1.2\u001b[0m\u001b[0;34m)\u001b[0m\u001b[0;34m\u001b[0m\u001b[0;34m\u001b[0m\u001b[0m\n\u001b[0;32m----> 4\u001b[0;31m \u001b[0msns\u001b[0m\u001b[0;34m.\u001b[0m\u001b[0mlineplot\u001b[0m\u001b[0;34m(\u001b[0m\u001b[0mx\u001b[0m\u001b[0;34m=\u001b[0m\u001b[0;34m\"date_recode\"\u001b[0m\u001b[0;34m,\u001b[0m \u001b[0my\u001b[0m\u001b[0;34m=\u001b[0m\u001b[0;34m\"inmigrar_EEUU\"\u001b[0m\u001b[0;34m,\u001b[0m \u001b[0mhue\u001b[0m\u001b[0;34m=\u001b[0m\u001b[0;34m\"Country Code\"\u001b[0m\u001b[0;34m,\u001b[0m \u001b[0mdata\u001b[0m\u001b[0;34m=\u001b[0m\u001b[0mgtrends_monthly\u001b[0m\u001b[0;34m)\u001b[0m\u001b[0;34m.\u001b[0m\u001b[0mset_title\u001b[0m\u001b[0;34m(\u001b[0m\u001b[0;34m\"Monthly Searches by Country\"\u001b[0m\u001b[0;34m)\u001b[0m\u001b[0;34m\u001b[0m\u001b[0;34m\u001b[0m\u001b[0m\n\u001b[0m\u001b[1;32m      5\u001b[0m \u001b[0;34m\u001b[0m\u001b[0m\n",
      "\u001b[0;32m/usr/local/lib/python3.7/site-packages/seaborn/relational.py\u001b[0m in \u001b[0;36mlineplot\u001b[0;34m(x, y, hue, size, style, data, palette, hue_order, hue_norm, sizes, size_order, size_norm, dashes, markers, style_order, units, estimator, ci, n_boot, sort, err_style, err_kws, legend, ax, **kwargs)\u001b[0m\n\u001b[1;32m   1076\u001b[0m         \u001b[0mdashes\u001b[0m\u001b[0;34m=\u001b[0m\u001b[0mdashes\u001b[0m\u001b[0;34m,\u001b[0m \u001b[0mmarkers\u001b[0m\u001b[0;34m=\u001b[0m\u001b[0mmarkers\u001b[0m\u001b[0;34m,\u001b[0m \u001b[0mstyle_order\u001b[0m\u001b[0;34m=\u001b[0m\u001b[0mstyle_order\u001b[0m\u001b[0;34m,\u001b[0m\u001b[0;34m\u001b[0m\u001b[0;34m\u001b[0m\u001b[0m\n\u001b[1;32m   1077\u001b[0m         \u001b[0munits\u001b[0m\u001b[0;34m=\u001b[0m\u001b[0munits\u001b[0m\u001b[0;34m,\u001b[0m \u001b[0mestimator\u001b[0m\u001b[0;34m=\u001b[0m\u001b[0mestimator\u001b[0m\u001b[0;34m,\u001b[0m \u001b[0mci\u001b[0m\u001b[0;34m=\u001b[0m\u001b[0mci\u001b[0m\u001b[0;34m,\u001b[0m \u001b[0mn_boot\u001b[0m\u001b[0;34m=\u001b[0m\u001b[0mn_boot\u001b[0m\u001b[0;34m,\u001b[0m\u001b[0;34m\u001b[0m\u001b[0;34m\u001b[0m\u001b[0m\n\u001b[0;32m-> 1078\u001b[0;31m         \u001b[0msort\u001b[0m\u001b[0;34m=\u001b[0m\u001b[0msort\u001b[0m\u001b[0;34m,\u001b[0m \u001b[0merr_style\u001b[0m\u001b[0;34m=\u001b[0m\u001b[0merr_style\u001b[0m\u001b[0;34m,\u001b[0m \u001b[0merr_kws\u001b[0m\u001b[0;34m=\u001b[0m\u001b[0merr_kws\u001b[0m\u001b[0;34m,\u001b[0m \u001b[0mlegend\u001b[0m\u001b[0;34m=\u001b[0m\u001b[0mlegend\u001b[0m\u001b[0;34m,\u001b[0m\u001b[0;34m\u001b[0m\u001b[0;34m\u001b[0m\u001b[0m\n\u001b[0m\u001b[1;32m   1079\u001b[0m     )\n\u001b[1;32m   1080\u001b[0m \u001b[0;34m\u001b[0m\u001b[0m\n",
      "\u001b[0;32m/usr/local/lib/python3.7/site-packages/seaborn/relational.py\u001b[0m in \u001b[0;36m__init__\u001b[0;34m(self, x, y, hue, size, style, data, palette, hue_order, hue_norm, sizes, size_order, size_norm, dashes, markers, style_order, units, estimator, ci, n_boot, sort, err_style, err_kws, legend)\u001b[0m\n\u001b[1;32m    661\u001b[0m \u001b[0;34m\u001b[0m\u001b[0m\n\u001b[1;32m    662\u001b[0m         plot_data = self.establish_variables(\n\u001b[0;32m--> 663\u001b[0;31m             \u001b[0mx\u001b[0m\u001b[0;34m,\u001b[0m \u001b[0my\u001b[0m\u001b[0;34m,\u001b[0m \u001b[0mhue\u001b[0m\u001b[0;34m,\u001b[0m \u001b[0msize\u001b[0m\u001b[0;34m,\u001b[0m \u001b[0mstyle\u001b[0m\u001b[0;34m,\u001b[0m \u001b[0munits\u001b[0m\u001b[0;34m,\u001b[0m \u001b[0mdata\u001b[0m\u001b[0;34m\u001b[0m\u001b[0;34m\u001b[0m\u001b[0m\n\u001b[0m\u001b[1;32m    664\u001b[0m         )\n\u001b[1;32m    665\u001b[0m \u001b[0;34m\u001b[0m\u001b[0m\n",
      "\u001b[0;32m/usr/local/lib/python3.7/site-packages/seaborn/relational.py\u001b[0m in \u001b[0;36mestablish_variables\u001b[0;34m(self, x, y, hue, size, style, units, data)\u001b[0m\n\u001b[1;32m    140\u001b[0m                 \u001b[0;32mif\u001b[0m \u001b[0misinstance\u001b[0m\u001b[0;34m(\u001b[0m\u001b[0mvar\u001b[0m\u001b[0;34m,\u001b[0m \u001b[0mstring_types\u001b[0m\u001b[0;34m)\u001b[0m\u001b[0;34m:\u001b[0m\u001b[0;34m\u001b[0m\u001b[0;34m\u001b[0m\u001b[0m\n\u001b[1;32m    141\u001b[0m                     \u001b[0merr\u001b[0m \u001b[0;34m=\u001b[0m \u001b[0;34m\"Could not interpret input '{}'\"\u001b[0m\u001b[0;34m.\u001b[0m\u001b[0mformat\u001b[0m\u001b[0;34m(\u001b[0m\u001b[0mvar\u001b[0m\u001b[0;34m)\u001b[0m\u001b[0;34m\u001b[0m\u001b[0;34m\u001b[0m\u001b[0m\n\u001b[0;32m--> 142\u001b[0;31m                     \u001b[0;32mraise\u001b[0m \u001b[0mValueError\u001b[0m\u001b[0;34m(\u001b[0m\u001b[0merr\u001b[0m\u001b[0;34m)\u001b[0m\u001b[0;34m\u001b[0m\u001b[0;34m\u001b[0m\u001b[0m\n\u001b[0m\u001b[1;32m    143\u001b[0m \u001b[0;34m\u001b[0m\u001b[0m\n\u001b[1;32m    144\u001b[0m             \u001b[0;31m# Extract variable names\u001b[0m\u001b[0;34m\u001b[0m\u001b[0;34m\u001b[0m\u001b[0;34m\u001b[0m\u001b[0m\n",
      "\u001b[0;31mValueError\u001b[0m: Could not interpret input 'inmigrar_EEUU'"
     ]
    },
    {
     "data": {
      "text/plain": [
       "<Figure size 1080x720 with 0 Axes>"
      ]
     },
     "metadata": {},
     "output_type": "display_data"
    }
   ],
   "source": [
    "#visualizing gtrends by origin country -- in this case just \"inmigrar+EEUU\"\n",
    "plt.figure(figsize=(15,10))\n",
    "sns.set_context(\"paper\",font_scale=1.2)\n",
    "sns.lineplot(x=\"date_recode\", y=\"inmigrar_EEUU\", hue=\"Country Code\", data=gtrends_monthly).set_title(\"Monthly Searches by Country\")\n",
    "\n"
   ]
  },
  {
   "cell_type": "code",
   "execution_count": 582,
   "metadata": {},
   "outputs": [
    {
     "name": "stdout",
     "output_type": "stream",
     "text": [
      "llegada,asilo,ciudadania,consulado,aduana,deportacion,diaspora,embajada,emigrante,emigrar,emigracion,extranjero,ilegal,inmigrante,inmigrar,inmigracion,legalizacion,migrante,migrar,migracion,nacionalidad,naturalizacion,pasaporte,cuota,refugiado,traficante,turista,visa,EEUU,españa,solicitante,indocumentado,llegada_x_llegada,llegada_x_asilo,llegada_x_ciudadania,llegada_x_consulado,llegada_x_aduana,llegada_x_deportacion,llegada_x_diaspora,llegada_x_embajada,llegada_x_emigrante,llegada_x_emigrar,llegada_x_emigracion,llegada_x_extranjero,llegada_x_ilegal,llegada_x_inmigrante,llegada_x_inmigrar,llegada_x_inmigracion,llegada_x_legalizacion,llegada_x_migrante,llegada_x_migrar,llegada_x_migracion,llegada_x_nacionalidad,llegada_x_naturalizacion,llegada_x_pasaporte,llegada_x_cuota,llegada_x_refugiado,llegada_x_traficante,llegada_x_turista,llegada_x_visa,llegada_x_EEUU,llegada_x_españa,llegada_x_solicitante,llegada_x_indocumentado,asilo_x_llegada,asilo_x_asilo,asilo_x_ciudadania,asilo_x_consulado,asilo_x_aduana,asilo_x_deportacion,asilo_x_diaspora,asilo_x_embajada,asilo_x_emigrante,asilo_x_emigrar,asilo_x_emigracion,asilo_x_extranjero,asilo_x_ilegal,asilo_x_inmigrante,asilo_x_inmigrar,asilo_x_inmigracion,asilo_x_legalizacion,asilo_x_migrante,asilo_x_migrar,asilo_x_migracion,asilo_x_nacionalidad,asilo_x_naturalizacion,asilo_x_pasaporte,asilo_x_cuota,asilo_x_refugiado,asilo_x_traficante,asilo_x_turista,asilo_x_visa,asilo_x_EEUU,asilo_x_españa,asilo_x_solicitante,asilo_x_indocumentado,ciudadania_x_llegada,ciudadania_x_asilo,ciudadania_x_ciudadania,ciudadania_x_consulado,ciudadania_x_aduana,ciudadania_x_deportacion,ciudadania_x_diaspora,ciudadania_x_embajada,ciudadania_x_emigrante,ciudadania_x_emigrar,ciudadania_x_emigracion,ciudadania_x_extranjero,ciudadania_x_ilegal,ciudadania_x_inmigrante,ciudadania_x_inmigrar,ciudadania_x_inmigracion,ciudadania_x_legalizacion,ciudadania_x_migrante,ciudadania_x_migrar,ciudadania_x_migracion,ciudadania_x_nacionalidad,ciudadania_x_naturalizacion,ciudadania_x_pasaporte,ciudadania_x_cuota,ciudadania_x_refugiado,ciudadania_x_traficante,ciudadania_x_turista,ciudadania_x_visa,ciudadania_x_EEUU,ciudadania_x_españa,ciudadania_x_solicitante,ciudadania_x_indocumentado,consulado_x_llegada,consulado_x_asilo,consulado_x_ciudadania,consulado_x_consulado,consulado_x_aduana,consulado_x_deportacion,consulado_x_diaspora,consulado_x_embajada,consulado_x_emigrante,consulado_x_emigrar,consulado_x_emigracion,consulado_x_extranjero,consulado_x_ilegal,consulado_x_inmigrante,consulado_x_inmigrar,consulado_x_inmigracion,consulado_x_legalizacion,consulado_x_migrante,consulado_x_migrar,consulado_x_migracion,consulado_x_nacionalidad,consulado_x_naturalizacion,consulado_x_pasaporte,consulado_x_cuota,consulado_x_refugiado,consulado_x_traficante,consulado_x_turista,consulado_x_visa,consulado_x_EEUU,consulado_x_españa,consulado_x_solicitante,consulado_x_indocumentado,aduana_x_llegada,aduana_x_asilo,aduana_x_ciudadania,aduana_x_consulado,aduana_x_aduana,aduana_x_deportacion,aduana_x_diaspora,aduana_x_embajada,aduana_x_emigrante,aduana_x_emigrar,aduana_x_emigracion,aduana_x_extranjero,aduana_x_ilegal,aduana_x_inmigrante,aduana_x_inmigrar,aduana_x_inmigracion,aduana_x_legalizacion,aduana_x_migrante,aduana_x_migrar,aduana_x_migracion,aduana_x_nacionalidad,aduana_x_naturalizacion,aduana_x_pasaporte,aduana_x_cuota,aduana_x_refugiado,aduana_x_traficante,aduana_x_turista,aduana_x_visa,aduana_x_EEUU,aduana_x_españa,aduana_x_solicitante,aduana_x_indocumentado,deportacion_x_llegada,deportacion_x_asilo,deportacion_x_ciudadania,deportacion_x_consulado,deportacion_x_aduana,deportacion_x_deportacion,deportacion_x_diaspora,deportacion_x_embajada,deportacion_x_emigrante,deportacion_x_emigrar,deportacion_x_emigracion,deportacion_x_extranjero,deportacion_x_ilegal,deportacion_x_inmigrante,deportacion_x_inmigrar,deportacion_x_inmigracion,deportacion_x_legalizacion,deportacion_x_migrante,deportacion_x_migrar,deportacion_x_migracion,deportacion_x_nacionalidad,deportacion_x_naturalizacion,deportacion_x_pasaporte,deportacion_x_cuota,deportacion_x_refugiado,deportacion_x_traficante,deportacion_x_turista,deportacion_x_visa,deportacion_x_EEUU,deportacion_x_españa,deportacion_x_solicitante,deportacion_x_indocumentado,diaspora_x_llegada,diaspora_x_asilo,diaspora_x_ciudadania,diaspora_x_consulado,diaspora_x_aduana,diaspora_x_deportacion,diaspora_x_diaspora,diaspora_x_embajada,diaspora_x_emigrante,diaspora_x_emigrar,diaspora_x_emigracion,diaspora_x_extranjero,diaspora_x_ilegal,diaspora_x_inmigrante,diaspora_x_inmigrar,diaspora_x_inmigracion,diaspora_x_legalizacion,diaspora_x_migrante,diaspora_x_migrar,diaspora_x_migracion,diaspora_x_nacionalidad,diaspora_x_naturalizacion,diaspora_x_pasaporte,diaspora_x_cuota,diaspora_x_refugiado,diaspora_x_traficante,diaspora_x_turista,diaspora_x_visa,diaspora_x_EEUU,diaspora_x_españa,diaspora_x_solicitante,diaspora_x_indocumentado,embajada_x_llegada,embajada_x_asilo,embajada_x_ciudadania,embajada_x_consulado,embajada_x_aduana,embajada_x_deportacion,embajada_x_diaspora,embajada_x_embajada,embajada_x_emigrante,embajada_x_emigrar,embajada_x_emigracion,embajada_x_extranjero,embajada_x_ilegal,embajada_x_inmigrante,embajada_x_inmigrar,embajada_x_inmigracion,embajada_x_legalizacion,embajada_x_migrante,embajada_x_migrar,embajada_x_migracion,embajada_x_nacionalidad,embajada_x_naturalizacion,embajada_x_pasaporte,embajada_x_cuota,embajada_x_refugiado,embajada_x_traficante,embajada_x_turista,embajada_x_visa,embajada_x_EEUU,embajada_x_españa,embajada_x_solicitante,embajada_x_indocumentado,emigrante_x_llegada,emigrante_x_asilo,emigrante_x_ciudadania,emigrante_x_consulado,emigrante_x_aduana,emigrante_x_deportacion,emigrante_x_diaspora,emigrante_x_embajada,emigrante_x_emigrante,emigrante_x_emigrar,emigrante_x_emigracion,emigrante_x_extranjero,emigrante_x_ilegal,emigrante_x_inmigrante,emigrante_x_inmigrar,emigrante_x_inmigracion,emigrante_x_legalizacion,emigrante_x_migrante,emigrante_x_migrar,emigrante_x_migracion,emigrante_x_nacionalidad,emigrante_x_naturalizacion,emigrante_x_pasaporte,emigrante_x_cuota,emigrante_x_refugiado,emigrante_x_traficante,emigrante_x_turista,emigrante_x_visa,emigrante_x_EEUU,emigrante_x_españa,emigrante_x_solicitante,emigrante_x_indocumentado,emigrar_x_llegada,emigrar_x_asilo,emigrar_x_ciudadania,emigrar_x_consulado,emigrar_x_aduana,emigrar_x_deportacion,emigrar_x_diaspora,emigrar_x_embajada,emigrar_x_emigrante,emigrar_x_emigrar,emigrar_x_emigracion,emigrar_x_extranjero,emigrar_x_ilegal,emigrar_x_inmigrante,emigrar_x_inmigrar,emigrar_x_inmigracion,emigrar_x_legalizacion,emigrar_x_migrante,emigrar_x_migrar,emigrar_x_migracion,emigrar_x_nacionalidad,emigrar_x_naturalizacion,emigrar_x_pasaporte,emigrar_x_cuota,emigrar_x_refugiado,emigrar_x_traficante,emigrar_x_turista,emigrar_x_visa,emigrar_x_EEUU,emigrar_x_españa,emigrar_x_solicitante,emigrar_x_indocumentado,emigracion_x_llegada,emigracion_x_asilo,emigracion_x_ciudadania,emigracion_x_consulado,emigracion_x_aduana,emigracion_x_deportacion,emigracion_x_diaspora,emigracion_x_embajada,emigracion_x_emigrante,emigracion_x_emigrar,emigracion_x_emigracion,emigracion_x_extranjero,emigracion_x_ilegal,emigracion_x_inmigrante,emigracion_x_inmigrar,emigracion_x_inmigracion,emigracion_x_legalizacion,emigracion_x_migrante,emigracion_x_migrar,emigracion_x_migracion,emigracion_x_nacionalidad,emigracion_x_naturalizacion,emigracion_x_pasaporte,emigracion_x_cuota,emigracion_x_refugiado,emigracion_x_traficante,emigracion_x_turista,emigracion_x_visa,emigracion_x_EEUU,emigracion_x_españa,emigracion_x_solicitante,emigracion_x_indocumentado,extranjero_x_llegada,extranjero_x_asilo,extranjero_x_ciudadania,extranjero_x_consulado,extranjero_x_aduana,extranjero_x_deportacion,extranjero_x_diaspora,extranjero_x_embajada,extranjero_x_emigrante,extranjero_x_emigrar,extranjero_x_emigracion,extranjero_x_extranjero,extranjero_x_ilegal,extranjero_x_inmigrante,extranjero_x_inmigrar,extranjero_x_inmigracion,extranjero_x_legalizacion,extranjero_x_migrante,extranjero_x_migrar,extranjero_x_migracion,extranjero_x_nacionalidad,extranjero_x_naturalizacion,extranjero_x_pasaporte,extranjero_x_cuota,extranjero_x_refugiado,extranjero_x_traficante,extranjero_x_turista,extranjero_x_visa,extranjero_x_EEUU,extranjero_x_españa,extranjero_x_solicitante,extranjero_x_indocumentado,ilegal_x_llegada,ilegal_x_asilo,ilegal_x_ciudadania,ilegal_x_consulado,ilegal_x_aduana,ilegal_x_deportacion,ilegal_x_diaspora,ilegal_x_embajada,ilegal_x_emigrante,ilegal_x_emigrar,ilegal_x_emigracion,ilegal_x_extranjero,ilegal_x_ilegal,ilegal_x_inmigrante,ilegal_x_inmigrar,ilegal_x_inmigracion,ilegal_x_legalizacion,ilegal_x_migrante,ilegal_x_migrar,ilegal_x_migracion,ilegal_x_nacionalidad,ilegal_x_naturalizacion,ilegal_x_pasaporte,ilegal_x_cuota,ilegal_x_refugiado,ilegal_x_traficante,ilegal_x_turista,ilegal_x_visa,ilegal_x_EEUU,ilegal_x_españa,ilegal_x_solicitante,ilegal_x_indocumentado,inmigrante_x_llegada,inmigrante_x_asilo,inmigrante_x_ciudadania,inmigrante_x_consulado,inmigrante_x_aduana,inmigrante_x_deportacion,inmigrante_x_diaspora,inmigrante_x_embajada,inmigrante_x_emigrante,inmigrante_x_emigrar,inmigrante_x_emigracion,inmigrante_x_extranjero,inmigrante_x_ilegal,inmigrante_x_inmigrante,inmigrante_x_inmigrar,inmigrante_x_inmigracion,inmigrante_x_legalizacion,inmigrante_x_migrante,inmigrante_x_migrar,inmigrante_x_migracion,inmigrante_x_nacionalidad,inmigrante_x_naturalizacion,inmigrante_x_pasaporte,inmigrante_x_cuota,inmigrante_x_refugiado,inmigrante_x_traficante,inmigrante_x_turista,inmigrante_x_visa,inmigrante_x_EEUU,inmigrante_x_españa,inmigrante_x_solicitante,inmigrante_x_indocumentado,inmigrar_x_llegada,inmigrar_x_asilo,inmigrar_x_ciudadania,inmigrar_x_consulado,inmigrar_x_aduana,inmigrar_x_deportacion,inmigrar_x_diaspora,inmigrar_x_embajada,inmigrar_x_emigrante,inmigrar_x_emigrar,inmigrar_x_emigracion,inmigrar_x_extranjero,inmigrar_x_ilegal,inmigrar_x_inmigrante,inmigrar_x_inmigrar,inmigrar_x_inmigracion,inmigrar_x_legalizacion,inmigrar_x_migrante,inmigrar_x_migrar,inmigrar_x_migracion,inmigrar_x_nacionalidad,inmigrar_x_naturalizacion,inmigrar_x_pasaporte,inmigrar_x_cuota,inmigrar_x_refugiado,inmigrar_x_traficante,inmigrar_x_turista,inmigrar_x_visa,inmigrar_x_EEUU,inmigrar_x_españa,inmigrar_x_solicitante,inmigrar_x_indocumentado,inmigracion_x_llegada,inmigracion_x_asilo,inmigracion_x_ciudadania,inmigracion_x_consulado,inmigracion_x_aduana,inmigracion_x_deportacion,inmigracion_x_diaspora,inmigracion_x_embajada,inmigracion_x_emigrante,inmigracion_x_emigrar,inmigracion_x_emigracion,inmigracion_x_extranjero,inmigracion_x_ilegal,inmigracion_x_inmigrante,inmigracion_x_inmigrar,inmigracion_x_inmigracion,inmigracion_x_legalizacion,inmigracion_x_migrante,inmigracion_x_migrar,inmigracion_x_migracion,inmigracion_x_nacionalidad,inmigracion_x_naturalizacion,inmigracion_x_pasaporte,inmigracion_x_cuota,inmigracion_x_refugiado,inmigracion_x_traficante,inmigracion_x_turista,inmigracion_x_visa,inmigracion_x_EEUU,inmigracion_x_españa,inmigracion_x_solicitante,inmigracion_x_indocumentado,legalizacion_x_llegada,legalizacion_x_asilo,legalizacion_x_ciudadania,legalizacion_x_consulado,legalizacion_x_aduana,legalizacion_x_deportacion,legalizacion_x_diaspora,legalizacion_x_embajada,legalizacion_x_emigrante,legalizacion_x_emigrar,legalizacion_x_emigracion,legalizacion_x_extranjero,legalizacion_x_ilegal,legalizacion_x_inmigrante,legalizacion_x_inmigrar,legalizacion_x_inmigracion,legalizacion_x_legalizacion,legalizacion_x_migrante,legalizacion_x_migrar,legalizacion_x_migracion,legalizacion_x_nacionalidad,legalizacion_x_naturalizacion,legalizacion_x_pasaporte,legalizacion_x_cuota,legalizacion_x_refugiado,legalizacion_x_traficante,legalizacion_x_turista,legalizacion_x_visa,legalizacion_x_EEUU,legalizacion_x_españa,legalizacion_x_solicitante,legalizacion_x_indocumentado,migrante_x_llegada,migrante_x_asilo,migrante_x_ciudadania,migrante_x_consulado,migrante_x_aduana,migrante_x_deportacion,migrante_x_diaspora,migrante_x_embajada,migrante_x_emigrante,migrante_x_emigrar,migrante_x_emigracion,migrante_x_extranjero,migrante_x_ilegal,migrante_x_inmigrante,migrante_x_inmigrar,migrante_x_inmigracion,migrante_x_legalizacion,migrante_x_migrante,migrante_x_migrar,migrante_x_migracion,migrante_x_nacionalidad,migrante_x_naturalizacion,migrante_x_pasaporte,migrante_x_cuota,migrante_x_refugiado,migrante_x_traficante,migrante_x_turista,migrante_x_visa,migrante_x_EEUU,migrante_x_españa,migrante_x_solicitante,migrante_x_indocumentado,migrar_x_llegada,migrar_x_asilo,migrar_x_ciudadania,migrar_x_consulado,migrar_x_aduana,migrar_x_deportacion,migrar_x_diaspora,migrar_x_embajada,migrar_x_emigrante,migrar_x_emigrar,migrar_x_emigracion,migrar_x_extranjero,migrar_x_ilegal,migrar_x_inmigrante,migrar_x_inmigrar,migrar_x_inmigracion,migrar_x_legalizacion,migrar_x_migrante,migrar_x_migrar,migrar_x_migracion,migrar_x_nacionalidad,migrar_x_naturalizacion,migrar_x_pasaporte,migrar_x_cuota,migrar_x_refugiado,migrar_x_traficante,migrar_x_turista,migrar_x_visa,migrar_x_EEUU,migrar_x_españa,migrar_x_solicitante,migrar_x_indocumentado,migracion_x_llegada,migracion_x_asilo,migracion_x_ciudadania,migracion_x_consulado,migracion_x_aduana,migracion_x_deportacion,migracion_x_diaspora,migracion_x_embajada,migracion_x_emigrante,migracion_x_emigrar,migracion_x_emigracion,migracion_x_extranjero,migracion_x_ilegal,migracion_x_inmigrante,migracion_x_inmigrar,migracion_x_inmigracion,migracion_x_legalizacion,migracion_x_migrante,migracion_x_migrar,migracion_x_migracion,migracion_x_nacionalidad,migracion_x_naturalizacion,migracion_x_pasaporte,migracion_x_cuota,migracion_x_refugiado,migracion_x_traficante,migracion_x_turista,migracion_x_visa,migracion_x_EEUU,migracion_x_españa,migracion_x_solicitante,migracion_x_indocumentado,nacionalidad_x_llegada,nacionalidad_x_asilo,nacionalidad_x_ciudadania,nacionalidad_x_consulado,nacionalidad_x_aduana,nacionalidad_x_deportacion,nacionalidad_x_diaspora,nacionalidad_x_embajada,nacionalidad_x_emigrante,nacionalidad_x_emigrar,nacionalidad_x_emigracion,nacionalidad_x_extranjero,nacionalidad_x_ilegal,nacionalidad_x_inmigrante,nacionalidad_x_inmigrar,nacionalidad_x_inmigracion,nacionalidad_x_legalizacion,nacionalidad_x_migrante,nacionalidad_x_migrar,nacionalidad_x_migracion,nacionalidad_x_nacionalidad,nacionalidad_x_naturalizacion,nacionalidad_x_pasaporte,nacionalidad_x_cuota,nacionalidad_x_refugiado,nacionalidad_x_traficante,nacionalidad_x_turista,nacionalidad_x_visa,nacionalidad_x_EEUU,nacionalidad_x_españa,nacionalidad_x_solicitante,nacionalidad_x_indocumentado,naturalizacion_x_llegada,naturalizacion_x_asilo,naturalizacion_x_ciudadania,naturalizacion_x_consulado,naturalizacion_x_aduana,naturalizacion_x_deportacion,naturalizacion_x_diaspora,naturalizacion_x_embajada,naturalizacion_x_emigrante,naturalizacion_x_emigrar,naturalizacion_x_emigracion,naturalizacion_x_extranjero,naturalizacion_x_ilegal,naturalizacion_x_inmigrante,naturalizacion_x_inmigrar,naturalizacion_x_inmigracion,naturalizacion_x_legalizacion,naturalizacion_x_migrante,naturalizacion_x_migrar,naturalizacion_x_migracion,naturalizacion_x_nacionalidad,naturalizacion_x_naturalizacion,naturalizacion_x_pasaporte,naturalizacion_x_cuota,naturalizacion_x_refugiado,naturalizacion_x_traficante,naturalizacion_x_turista,naturalizacion_x_visa,naturalizacion_x_EEUU,naturalizacion_x_españa,naturalizacion_x_solicitante,naturalizacion_x_indocumentado,pasaporte_x_llegada,pasaporte_x_asilo,pasaporte_x_ciudadania,pasaporte_x_consulado,pasaporte_x_aduana,pasaporte_x_deportacion,pasaporte_x_diaspora,pasaporte_x_embajada,pasaporte_x_emigrante,pasaporte_x_emigrar,pasaporte_x_emigracion,pasaporte_x_extranjero,pasaporte_x_ilegal,pasaporte_x_inmigrante,pasaporte_x_inmigrar,pasaporte_x_inmigracion,pasaporte_x_legalizacion,pasaporte_x_migrante,pasaporte_x_migrar,pasaporte_x_migracion,pasaporte_x_nacionalidad,pasaporte_x_naturalizacion,pasaporte_x_pasaporte,pasaporte_x_cuota,pasaporte_x_refugiado,pasaporte_x_traficante,pasaporte_x_turista,pasaporte_x_visa,pasaporte_x_EEUU,pasaporte_x_españa,pasaporte_x_solicitante,pasaporte_x_indocumentado,cuota_x_llegada,cuota_x_asilo,cuota_x_ciudadania,cuota_x_consulado,cuota_x_aduana,cuota_x_deportacion,cuota_x_diaspora,cuota_x_embajada,cuota_x_emigrante,cuota_x_emigrar,cuota_x_emigracion,cuota_x_extranjero,cuota_x_ilegal,cuota_x_inmigrante,cuota_x_inmigrar,cuota_x_inmigracion,cuota_x_legalizacion,cuota_x_migrante,cuota_x_migrar,cuota_x_migracion,cuota_x_nacionalidad,cuota_x_naturalizacion,cuota_x_pasaporte,cuota_x_cuota,cuota_x_refugiado,cuota_x_traficante,cuota_x_turista,cuota_x_visa,cuota_x_EEUU,cuota_x_españa,cuota_x_solicitante,cuota_x_indocumentado,refugiado_x_llegada,refugiado_x_asilo,refugiado_x_ciudadania,refugiado_x_consulado,refugiado_x_aduana,refugiado_x_deportacion,refugiado_x_diaspora,refugiado_x_embajada,refugiado_x_emigrante,refugiado_x_emigrar,refugiado_x_emigracion,refugiado_x_extranjero,refugiado_x_ilegal,refugiado_x_inmigrante,refugiado_x_inmigrar,refugiado_x_inmigracion,refugiado_x_legalizacion,refugiado_x_migrante,refugiado_x_migrar,refugiado_x_migracion,refugiado_x_nacionalidad,refugiado_x_naturalizacion,refugiado_x_pasaporte,refugiado_x_cuota,refugiado_x_refugiado,refugiado_x_traficante,refugiado_x_turista,refugiado_x_visa,refugiado_x_EEUU,refugiado_x_españa,refugiado_x_solicitante,refugiado_x_indocumentado,traficante_x_llegada,traficante_x_asilo,traficante_x_ciudadania,traficante_x_consulado,traficante_x_aduana,traficante_x_deportacion,traficante_x_diaspora,traficante_x_embajada,traficante_x_emigrante,traficante_x_emigrar,traficante_x_emigracion,traficante_x_extranjero,traficante_x_ilegal,traficante_x_inmigrante,traficante_x_inmigrar,traficante_x_inmigracion,traficante_x_legalizacion,traficante_x_migrante,traficante_x_migrar,traficante_x_migracion,traficante_x_nacionalidad,traficante_x_naturalizacion,traficante_x_pasaporte,traficante_x_cuota,traficante_x_refugiado,traficante_x_traficante,traficante_x_turista,traficante_x_visa,traficante_x_EEUU,traficante_x_españa,traficante_x_solicitante,traficante_x_indocumentado,turista_x_llegada,turista_x_asilo,turista_x_ciudadania,turista_x_consulado,turista_x_aduana,turista_x_deportacion,turista_x_diaspora,turista_x_embajada,turista_x_emigrante,turista_x_emigrar,turista_x_emigracion,turista_x_extranjero,turista_x_ilegal,turista_x_inmigrante,turista_x_inmigrar,turista_x_inmigracion,turista_x_legalizacion,turista_x_migrante,turista_x_migrar,turista_x_migracion,turista_x_nacionalidad,turista_x_naturalizacion,turista_x_pasaporte,turista_x_cuota,turista_x_refugiado,turista_x_traficante,turista_x_turista,turista_x_visa,turista_x_EEUU,turista_x_españa,turista_x_solicitante,turista_x_indocumentado,visa_x_llegada,visa_x_asilo,visa_x_ciudadania,visa_x_consulado,visa_x_aduana,visa_x_deportacion,visa_x_diaspora,visa_x_embajada,visa_x_emigrante,visa_x_emigrar,visa_x_emigracion,visa_x_extranjero,visa_x_ilegal,visa_x_inmigrante,visa_x_inmigrar,visa_x_inmigracion,visa_x_legalizacion,visa_x_migrante,visa_x_migrar,visa_x_migracion,visa_x_nacionalidad,visa_x_naturalizacion,visa_x_pasaporte,visa_x_cuota,visa_x_refugiado,visa_x_traficante,visa_x_turista,visa_x_visa,visa_x_EEUU,visa_x_españa,visa_x_solicitante,visa_x_indocumentado,EEUU_x_llegada,EEUU_x_asilo,EEUU_x_ciudadania,EEUU_x_consulado,EEUU_x_aduana,EEUU_x_deportacion,EEUU_x_diaspora,EEUU_x_embajada,EEUU_x_emigrante,EEUU_x_emigrar,EEUU_x_emigracion,EEUU_x_extranjero,EEUU_x_ilegal,EEUU_x_inmigrante,EEUU_x_inmigrar,EEUU_x_inmigracion,EEUU_x_legalizacion,EEUU_x_migrante,EEUU_x_migrar,EEUU_x_migracion,EEUU_x_nacionalidad,EEUU_x_naturalizacion,EEUU_x_pasaporte,EEUU_x_cuota,EEUU_x_refugiado,EEUU_x_traficante,EEUU_x_turista,EEUU_x_visa,EEUU_x_EEUU,EEUU_x_españa,EEUU_x_solicitante,EEUU_x_indocumentado,españa_x_llegada,españa_x_asilo,españa_x_ciudadania,españa_x_consulado,españa_x_aduana,españa_x_deportacion,españa_x_diaspora,españa_x_embajada,españa_x_emigrante,españa_x_emigrar,españa_x_emigracion,españa_x_extranjero,españa_x_ilegal,españa_x_inmigrante,españa_x_inmigrar,españa_x_inmigracion,españa_x_legalizacion,españa_x_migrante,españa_x_migrar,españa_x_migracion,españa_x_nacionalidad,españa_x_naturalizacion,españa_x_pasaporte,españa_x_cuota,españa_x_refugiado,españa_x_traficante,españa_x_turista,españa_x_visa,españa_x_EEUU,españa_x_españa,españa_x_solicitante,españa_x_indocumentado,solicitante_x_llegada,solicitante_x_asilo,solicitante_x_ciudadania,solicitante_x_consulado,solicitante_x_aduana,solicitante_x_deportacion,solicitante_x_diaspora,solicitante_x_embajada,solicitante_x_emigrante,solicitante_x_emigrar,solicitante_x_emigracion,solicitante_x_extranjero,solicitante_x_ilegal,solicitante_x_inmigrante,solicitante_x_inmigrar,solicitante_x_inmigracion,solicitante_x_legalizacion,solicitante_x_migrante,solicitante_x_migrar,solicitante_x_migracion,solicitante_x_nacionalidad,solicitante_x_naturalizacion,solicitante_x_pasaporte,solicitante_x_cuota,solicitante_x_refugiado,solicitante_x_traficante,solicitante_x_turista,solicitante_x_visa,solicitante_x_EEUU,solicitante_x_españa,solicitante_x_solicitante,solicitante_x_indocumentado,indocumentado_x_llegada,indocumentado_x_asilo,indocumentado_x_ciudadania,indocumentado_x_consulado,indocumentado_x_aduana,indocumentado_x_deportacion,indocumentado_x_diaspora,indocumentado_x_embajada,indocumentado_x_emigrante,indocumentado_x_emigrar,indocumentado_x_emigracion,indocumentado_x_extranjero,indocumentado_x_ilegal,indocumentado_x_inmigrante,indocumentado_x_inmigrar,indocumentado_x_inmigracion,indocumentado_x_legalizacion,indocumentado_x_migrante,indocumentado_x_migrar,indocumentado_x_migracion,indocumentado_x_nacionalidad,indocumentado_x_naturalizacion,indocumentado_x_pasaporte,indocumentado_x_cuota,indocumentado_x_refugiado,indocumentado_x_traficante,indocumentado_x_turista,indocumentado_x_visa,indocumentado_x_EEUU,indocumentado_x_españa,indocumentado_x_solicitante,indocumentado_x_indocumentado\n"
     ]
    }
   ],
   "source": [
    "print(\",\".join(new_kw_list_w_interactions))"
   ]
  },
  {
   "cell_type": "code",
   "execution_count": 583,
   "metadata": {},
   "outputs": [
    {
     "data": {
      "text/plain": [
       "1056"
      ]
     },
     "execution_count": 583,
     "metadata": {},
     "output_type": "execute_result"
    }
   ],
   "source": [
    "len(new_kw_list_w_interactions)"
   ]
  },
  {
   "cell_type": "code",
   "execution_count": 585,
   "metadata": {},
   "outputs": [
    {
     "data": {
      "text/plain": [
       "564"
      ]
     },
     "execution_count": 585,
     "metadata": {},
     "output_type": "execute_result"
    }
   ],
   "source": [
    "len(refugees_wlags)"
   ]
  },
  {
   "cell_type": "code",
   "execution_count": null,
   "metadata": {},
   "outputs": [],
   "source": []
  }
 ],
 "metadata": {
  "kernelspec": {
   "display_name": "Python 3",
   "language": "python",
   "name": "python3"
  },
  "language_info": {
   "codemirror_mode": {
    "name": "ipython",
    "version": 3
   },
   "file_extension": ".py",
   "mimetype": "text/x-python",
   "name": "python",
   "nbconvert_exporter": "python",
   "pygments_lexer": "ipython3",
   "version": "3.7.3"
  }
 },
 "nbformat": 4,
 "nbformat_minor": 2
}
